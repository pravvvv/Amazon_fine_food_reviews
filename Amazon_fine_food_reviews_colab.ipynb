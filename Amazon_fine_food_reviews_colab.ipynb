{
  "nbformat": 4,
  "nbformat_minor": 0,
  "metadata": {
    "colab": {
      "name": "Amazon_fine_food_reviews_colab.ipynb",
      "provenance": [],
      "collapsed_sections": [],
      "toc_visible": true,
      "authorship_tag": "ABX9TyMC0bsfptVhBYk0NsokrlsY",
      "include_colab_link": true
    },
    "kernelspec": {
      "name": "python3",
      "display_name": "Python 3"
    },
    "language_info": {
      "name": "python"
    }
  },
  "cells": [
    {
      "cell_type": "markdown",
      "metadata": {
        "id": "view-in-github",
        "colab_type": "text"
      },
      "source": [
        "<a href=\"https://colab.research.google.com/github/pravvvv/Amazon_fine_food_reviews/blob/main/Amazon_fine_food_reviews_colab.ipynb\" target=\"_parent\"><img src=\"https://colab.research.google.com/assets/colab-badge.svg\" alt=\"Open In Colab\"/></a>"
      ]
    },
    {
      "cell_type": "markdown",
      "metadata": {
        "id": "FD3zXelMDtHj"
      },
      "source": [
        "# Strategy \n",
        "\n",
        "* Sentiment analysis on whether a review is positive or negative based on the review and summary text\n",
        "* If we are going to predict the sentiment based on the text data then we could find the top features, in this case the words which influence the positive or negative sentiment of the review. We have review text and summary text.\n",
        "* This is a classification problem\n",
        "* We have to build a machine learning model which would predict a new review is going to be positive or negative\n",
        "* Probability value could give the strength of the prediction\n",
        "* We are going to use AUC as performance metric since the dataset is imbalanced and we need probability"
      ]
    },
    {
      "cell_type": "markdown",
      "metadata": {
        "id": "VWjWbh7SDwBl"
      },
      "source": [
        "# Dataset preparation and preprocessing\n",
        "\n",
        "* Load the dataset\n",
        "* Label the data for classification into positive and negative \n",
        "* Preprocessing steps \n",
        "* Feature engineering\n",
        "* Feature transformation"
      ]
    },
    {
      "cell_type": "markdown",
      "metadata": {
        "id": "fmh5yBUvDyq_"
      },
      "source": [
        "## Load the dataset"
      ]
    },
    {
      "cell_type": "code",
      "metadata": {
        "colab": {
          "base_uri": "https://localhost:8080/",
          "height": 683
        },
        "id": "UNB2_gtBC747",
        "outputId": "26124071-4cd6-41f1-c74a-d8cf88bb5578"
      },
      "source": [
        "import pandas as pd\n",
        "import sqlite3\n",
        "con = sqlite3.connect('database.sqlite')\n",
        "\n",
        "# 3 is the threshold for the rating above which we consider them as positive and below which is negative. \n",
        "# We are considering this while loading the dataset\n",
        "loaded_data = pd.read_sql_query(\"\"\" SELECT * FROM Reviews WHERE Score != 3 \"\"\", con) \n",
        "\n",
        "loaded_data[:5]"
      ],
      "execution_count": 2,
      "outputs": [
        {
          "output_type": "display_data",
          "data": {
            "text/html": [
              "\n",
              "  <style>\n",
              "    pre {\n",
              "        white-space: pre-wrap;\n",
              "    }\n",
              "  </style>\n",
              "  "
            ],
            "text/plain": [
              "<IPython.core.display.HTML object>"
            ]
          },
          "metadata": {
            "tags": []
          }
        },
        {
          "output_type": "execute_result",
          "data": {
            "text/html": [
              "<div>\n",
              "<style scoped>\n",
              "    .dataframe tbody tr th:only-of-type {\n",
              "        vertical-align: middle;\n",
              "    }\n",
              "\n",
              "    .dataframe tbody tr th {\n",
              "        vertical-align: top;\n",
              "    }\n",
              "\n",
              "    .dataframe thead th {\n",
              "        text-align: right;\n",
              "    }\n",
              "</style>\n",
              "<table border=\"1\" class=\"dataframe\">\n",
              "  <thead>\n",
              "    <tr style=\"text-align: right;\">\n",
              "      <th></th>\n",
              "      <th>Id</th>\n",
              "      <th>ProductId</th>\n",
              "      <th>UserId</th>\n",
              "      <th>ProfileName</th>\n",
              "      <th>HelpfulnessNumerator</th>\n",
              "      <th>HelpfulnessDenominator</th>\n",
              "      <th>Score</th>\n",
              "      <th>Time</th>\n",
              "      <th>Summary</th>\n",
              "      <th>Text</th>\n",
              "    </tr>\n",
              "  </thead>\n",
              "  <tbody>\n",
              "    <tr>\n",
              "      <th>0</th>\n",
              "      <td>1</td>\n",
              "      <td>B001E4KFG0</td>\n",
              "      <td>A3SGXH7AUHU8GW</td>\n",
              "      <td>delmartian</td>\n",
              "      <td>1</td>\n",
              "      <td>1</td>\n",
              "      <td>5</td>\n",
              "      <td>1303862400</td>\n",
              "      <td>Good Quality Dog Food</td>\n",
              "      <td>I have bought several of the Vitality canned d...</td>\n",
              "    </tr>\n",
              "    <tr>\n",
              "      <th>1</th>\n",
              "      <td>2</td>\n",
              "      <td>B00813GRG4</td>\n",
              "      <td>A1D87F6ZCVE5NK</td>\n",
              "      <td>dll pa</td>\n",
              "      <td>0</td>\n",
              "      <td>0</td>\n",
              "      <td>1</td>\n",
              "      <td>1346976000</td>\n",
              "      <td>Not as Advertised</td>\n",
              "      <td>Product arrived labeled as Jumbo Salted Peanut...</td>\n",
              "    </tr>\n",
              "    <tr>\n",
              "      <th>2</th>\n",
              "      <td>3</td>\n",
              "      <td>B000LQOCH0</td>\n",
              "      <td>ABXLMWJIXXAIN</td>\n",
              "      <td>Natalia Corres \"Natalia Corres\"</td>\n",
              "      <td>1</td>\n",
              "      <td>1</td>\n",
              "      <td>4</td>\n",
              "      <td>1219017600</td>\n",
              "      <td>\"Delight\" says it all</td>\n",
              "      <td>This is a confection that has been around a fe...</td>\n",
              "    </tr>\n",
              "    <tr>\n",
              "      <th>3</th>\n",
              "      <td>4</td>\n",
              "      <td>B000UA0QIQ</td>\n",
              "      <td>A395BORC6FGVXV</td>\n",
              "      <td>Karl</td>\n",
              "      <td>3</td>\n",
              "      <td>3</td>\n",
              "      <td>2</td>\n",
              "      <td>1307923200</td>\n",
              "      <td>Cough Medicine</td>\n",
              "      <td>If you are looking for the secret ingredient i...</td>\n",
              "    </tr>\n",
              "    <tr>\n",
              "      <th>4</th>\n",
              "      <td>5</td>\n",
              "      <td>B006K2ZZ7K</td>\n",
              "      <td>A1UQRSCLF8GW1T</td>\n",
              "      <td>Michael D. Bigham \"M. Wassir\"</td>\n",
              "      <td>0</td>\n",
              "      <td>0</td>\n",
              "      <td>5</td>\n",
              "      <td>1350777600</td>\n",
              "      <td>Great taffy</td>\n",
              "      <td>Great taffy at a great price.  There was a wid...</td>\n",
              "    </tr>\n",
              "  </tbody>\n",
              "</table>\n",
              "</div>"
            ],
            "text/plain": [
              "   Id  ...                                               Text\n",
              "0   1  ...  I have bought several of the Vitality canned d...\n",
              "1   2  ...  Product arrived labeled as Jumbo Salted Peanut...\n",
              "2   3  ...  This is a confection that has been around a fe...\n",
              "3   4  ...  If you are looking for the secret ingredient i...\n",
              "4   5  ...  Great taffy at a great price.  There was a wid...\n",
              "\n",
              "[5 rows x 10 columns]"
            ]
          },
          "metadata": {
            "tags": []
          },
          "execution_count": 2
        }
      ]
    },
    {
      "cell_type": "code",
      "metadata": {
        "colab": {
          "base_uri": "https://localhost:8080/",
          "height": 34
        },
        "id": "AvranxasEUvf",
        "outputId": "148b05e8-c291-453d-c480-47ab8e849e9e"
      },
      "source": [
        "print(loaded_data.shape)"
      ],
      "execution_count": 3,
      "outputs": [
        {
          "output_type": "display_data",
          "data": {
            "text/html": [
              "\n",
              "  <style>\n",
              "    pre {\n",
              "        white-space: pre-wrap;\n",
              "    }\n",
              "  </style>\n",
              "  "
            ],
            "text/plain": [
              "<IPython.core.display.HTML object>"
            ]
          },
          "metadata": {
            "tags": []
          }
        },
        {
          "output_type": "stream",
          "text": [
            "(525814, 10)\n"
          ],
          "name": "stdout"
        }
      ]
    },
    {
      "cell_type": "markdown",
      "metadata": {
        "id": "NeVL_Z6kIwah"
      },
      "source": [
        "## Data selection\n",
        "\n",
        "* Remove missing data\n",
        "* Remove duplicates\n"
      ]
    },
    {
      "cell_type": "markdown",
      "metadata": {
        "id": "4c7FoCwbNXvV"
      },
      "source": [
        "### Missing data check"
      ]
    },
    {
      "cell_type": "code",
      "metadata": {
        "colab": {
          "base_uri": "https://localhost:8080/",
          "height": 306
        },
        "id": "RmVzadWgI_Ks",
        "outputId": "e7a51398-8884-4122-b6ce-1bb9b09d5759"
      },
      "source": [
        "loaded_data.info(verbose=True)"
      ],
      "execution_count": 4,
      "outputs": [
        {
          "output_type": "display_data",
          "data": {
            "text/html": [
              "\n",
              "  <style>\n",
              "    pre {\n",
              "        white-space: pre-wrap;\n",
              "    }\n",
              "  </style>\n",
              "  "
            ],
            "text/plain": [
              "<IPython.core.display.HTML object>"
            ]
          },
          "metadata": {
            "tags": []
          }
        },
        {
          "output_type": "stream",
          "text": [
            "<class 'pandas.core.frame.DataFrame'>\n",
            "RangeIndex: 525814 entries, 0 to 525813\n",
            "Data columns (total 10 columns):\n",
            " #   Column                  Non-Null Count   Dtype \n",
            "---  ------                  --------------   ----- \n",
            " 0   Id                      525814 non-null  int64 \n",
            " 1   ProductId               525814 non-null  object\n",
            " 2   UserId                  525814 non-null  object\n",
            " 3   ProfileName             525814 non-null  object\n",
            " 4   HelpfulnessNumerator    525814 non-null  int64 \n",
            " 5   HelpfulnessDenominator  525814 non-null  int64 \n",
            " 6   Score                   525814 non-null  int64 \n",
            " 7   Time                    525814 non-null  int64 \n",
            " 8   Summary                 525814 non-null  object\n",
            " 9   Text                    525814 non-null  object\n",
            "dtypes: int64(5), object(5)\n",
            "memory usage: 40.1+ MB\n"
          ],
          "name": "stdout"
        }
      ]
    },
    {
      "cell_type": "markdown",
      "metadata": {
        "id": "10jOhrtqNbcA"
      },
      "source": [
        "### Removing duplicates"
      ]
    },
    {
      "cell_type": "code",
      "metadata": {
        "colab": {
          "base_uri": "https://localhost:8080/",
          "height": 289
        },
        "id": "fHMdyV8iJIwu",
        "outputId": "4258764a-9f07-4ccd-ea56-c8b5404a06a9"
      },
      "source": [
        "# Duplicate entries with same userid,productid,profilename,time,score,text\n",
        "\n",
        "df = pd.read_sql_query(\"\"\"SELECT UserId, ProductId, ProfileName, Time, Score, Text, COUNT(*)\n",
        "FROM Reviews\n",
        "WHERE Score!=3\n",
        "GROUP BY UserId\n",
        "HAVING COUNT(*)>1\"\"\",con)\n",
        "df.head()"
      ],
      "execution_count": 5,
      "outputs": [
        {
          "output_type": "display_data",
          "data": {
            "text/html": [
              "\n",
              "  <style>\n",
              "    pre {\n",
              "        white-space: pre-wrap;\n",
              "    }\n",
              "  </style>\n",
              "  "
            ],
            "text/plain": [
              "<IPython.core.display.HTML object>"
            ]
          },
          "metadata": {
            "tags": []
          }
        },
        {
          "output_type": "execute_result",
          "data": {
            "text/html": [
              "<div>\n",
              "<style scoped>\n",
              "    .dataframe tbody tr th:only-of-type {\n",
              "        vertical-align: middle;\n",
              "    }\n",
              "\n",
              "    .dataframe tbody tr th {\n",
              "        vertical-align: top;\n",
              "    }\n",
              "\n",
              "    .dataframe thead th {\n",
              "        text-align: right;\n",
              "    }\n",
              "</style>\n",
              "<table border=\"1\" class=\"dataframe\">\n",
              "  <thead>\n",
              "    <tr style=\"text-align: right;\">\n",
              "      <th></th>\n",
              "      <th>UserId</th>\n",
              "      <th>ProductId</th>\n",
              "      <th>ProfileName</th>\n",
              "      <th>Time</th>\n",
              "      <th>Score</th>\n",
              "      <th>Text</th>\n",
              "      <th>COUNT(*)</th>\n",
              "    </tr>\n",
              "  </thead>\n",
              "  <tbody>\n",
              "    <tr>\n",
              "      <th>0</th>\n",
              "      <td>#oc-R115TNMSPFT9I7</td>\n",
              "      <td>B007Y59HVM</td>\n",
              "      <td>Breyton</td>\n",
              "      <td>1331510400</td>\n",
              "      <td>2</td>\n",
              "      <td>Overall its just OK when considering the price...</td>\n",
              "      <td>2</td>\n",
              "    </tr>\n",
              "    <tr>\n",
              "      <th>1</th>\n",
              "      <td>#oc-R11D9D7SHXIJB9</td>\n",
              "      <td>B005HG9ET0</td>\n",
              "      <td>Louis E. Emory \"hoppy\"</td>\n",
              "      <td>1342396800</td>\n",
              "      <td>5</td>\n",
              "      <td>My wife has recurring extreme muscle spasms, u...</td>\n",
              "      <td>3</td>\n",
              "    </tr>\n",
              "    <tr>\n",
              "      <th>2</th>\n",
              "      <td>#oc-R11DNU2NBKQ23Z</td>\n",
              "      <td>B007Y59HVM</td>\n",
              "      <td>Kim Cieszykowski</td>\n",
              "      <td>1348531200</td>\n",
              "      <td>1</td>\n",
              "      <td>This coffee is horrible and unfortunately not ...</td>\n",
              "      <td>2</td>\n",
              "    </tr>\n",
              "    <tr>\n",
              "      <th>3</th>\n",
              "      <td>#oc-R11O5J5ZVQE25C</td>\n",
              "      <td>B005HG9ET0</td>\n",
              "      <td>Penguin Chick</td>\n",
              "      <td>1346889600</td>\n",
              "      <td>5</td>\n",
              "      <td>This will be the bottle that you grab from the...</td>\n",
              "      <td>3</td>\n",
              "    </tr>\n",
              "    <tr>\n",
              "      <th>4</th>\n",
              "      <td>#oc-R12KPBODL2B5ZD</td>\n",
              "      <td>B007OSBE1U</td>\n",
              "      <td>Christopher P. Presta</td>\n",
              "      <td>1348617600</td>\n",
              "      <td>1</td>\n",
              "      <td>I didnt like this coffee. Instead of telling y...</td>\n",
              "      <td>2</td>\n",
              "    </tr>\n",
              "  </tbody>\n",
              "</table>\n",
              "</div>"
            ],
            "text/plain": [
              "               UserId  ... COUNT(*)\n",
              "0  #oc-R115TNMSPFT9I7  ...        2\n",
              "1  #oc-R11D9D7SHXIJB9  ...        3\n",
              "2  #oc-R11DNU2NBKQ23Z  ...        2\n",
              "3  #oc-R11O5J5ZVQE25C  ...        3\n",
              "4  #oc-R12KPBODL2B5ZD  ...        2\n",
              "\n",
              "[5 rows x 7 columns]"
            ]
          },
          "metadata": {
            "tags": []
          },
          "execution_count": 5
        }
      ]
    },
    {
      "cell_type": "code",
      "metadata": {
        "colab": {
          "base_uri": "https://localhost:8080/",
          "height": 267
        },
        "id": "QN_NP3JALNE2",
        "outputId": "2b97d077-4dec-43e3-da70-0ae18b0e5a15"
      },
      "source": [
        "# Example of multiple entries\n",
        "loaded_data[loaded_data['UserId']=='#oc-R115TNMSPFT9I7']"
      ],
      "execution_count": 6,
      "outputs": [
        {
          "output_type": "display_data",
          "data": {
            "text/html": [
              "\n",
              "  <style>\n",
              "    pre {\n",
              "        white-space: pre-wrap;\n",
              "    }\n",
              "  </style>\n",
              "  "
            ],
            "text/plain": [
              "<IPython.core.display.HTML object>"
            ]
          },
          "metadata": {
            "tags": []
          }
        },
        {
          "output_type": "execute_result",
          "data": {
            "text/html": [
              "<div>\n",
              "<style scoped>\n",
              "    .dataframe tbody tr th:only-of-type {\n",
              "        vertical-align: middle;\n",
              "    }\n",
              "\n",
              "    .dataframe tbody tr th {\n",
              "        vertical-align: top;\n",
              "    }\n",
              "\n",
              "    .dataframe thead th {\n",
              "        text-align: right;\n",
              "    }\n",
              "</style>\n",
              "<table border=\"1\" class=\"dataframe\">\n",
              "  <thead>\n",
              "    <tr style=\"text-align: right;\">\n",
              "      <th></th>\n",
              "      <th>Id</th>\n",
              "      <th>ProductId</th>\n",
              "      <th>UserId</th>\n",
              "      <th>ProfileName</th>\n",
              "      <th>HelpfulnessNumerator</th>\n",
              "      <th>HelpfulnessDenominator</th>\n",
              "      <th>Score</th>\n",
              "      <th>Time</th>\n",
              "      <th>Summary</th>\n",
              "      <th>Text</th>\n",
              "    </tr>\n",
              "  </thead>\n",
              "  <tbody>\n",
              "    <tr>\n",
              "      <th>76583</th>\n",
              "      <td>83318</td>\n",
              "      <td>B005ZBZLT4</td>\n",
              "      <td>#oc-R115TNMSPFT9I7</td>\n",
              "      <td>Breyton</td>\n",
              "      <td>2</td>\n",
              "      <td>3</td>\n",
              "      <td>2</td>\n",
              "      <td>1331510400</td>\n",
              "      <td>\"Green\" K-cup packaging sacrifices flavor</td>\n",
              "      <td>Overall its just OK when considering the price...</td>\n",
              "    </tr>\n",
              "    <tr>\n",
              "      <th>166820</th>\n",
              "      <td>180872</td>\n",
              "      <td>B007Y59HVM</td>\n",
              "      <td>#oc-R115TNMSPFT9I7</td>\n",
              "      <td>Breyton</td>\n",
              "      <td>2</td>\n",
              "      <td>3</td>\n",
              "      <td>2</td>\n",
              "      <td>1331510400</td>\n",
              "      <td>\"Green\" K-cup packaging sacrifices flavor</td>\n",
              "      <td>Overall its just OK when considering the price...</td>\n",
              "    </tr>\n",
              "  </tbody>\n",
              "</table>\n",
              "</div>"
            ],
            "text/plain": [
              "            Id  ...                                               Text\n",
              "76583    83318  ...  Overall its just OK when considering the price...\n",
              "166820  180872  ...  Overall its just OK when considering the price...\n",
              "\n",
              "[2 rows x 10 columns]"
            ]
          },
          "metadata": {
            "tags": []
          },
          "execution_count": 6
        }
      ]
    },
    {
      "cell_type": "code",
      "metadata": {
        "colab": {
          "base_uri": "https://localhost:8080/",
          "height": 68
        },
        "id": "Q7jYgAvDLisu",
        "outputId": "504eb9d9-d34d-4fa8-8d77-f8ae4e48f816"
      },
      "source": [
        "#Sorting data according to ProductId in ascending order\n",
        "sorted_data=loaded_data.sort_values('ProductId', axis=0, \n",
        "                                      ascending=True,  \n",
        "                                      kind='quicksort', na_position='last')\n",
        "\n",
        "# Keeping first after sorting entries\n",
        "final=sorted_data.drop_duplicates(subset={\"UserId\",\"ProfileName\",\n",
        "                                          \"Time\",\"Text\"}, keep='first')\n",
        "print(\"Loaded Data shape :\",loaded_data.shape)\n",
        "print(\"Final Data shape :\",final.shape)\n",
        "print(\"% of data remaining :\",round(final.shape[0]/loaded_data.shape[0]*100),\"%\")"
      ],
      "execution_count": 7,
      "outputs": [
        {
          "output_type": "display_data",
          "data": {
            "text/html": [
              "\n",
              "  <style>\n",
              "    pre {\n",
              "        white-space: pre-wrap;\n",
              "    }\n",
              "  </style>\n",
              "  "
            ],
            "text/plain": [
              "<IPython.core.display.HTML object>"
            ]
          },
          "metadata": {
            "tags": []
          }
        },
        {
          "output_type": "stream",
          "text": [
            "Loaded Data shape : (525814, 10)\n",
            "Final Data shape : (364173, 10)\n",
            "% of data remaining : 69 %\n"
          ],
          "name": "stdout"
        }
      ]
    },
    {
      "cell_type": "code",
      "metadata": {
        "colab": {
          "base_uri": "https://localhost:8080/",
          "height": 102
        },
        "id": "vI4cybSzO9Eq",
        "outputId": "8f0db88b-0dcb-45c0-c780-2b87df2fc961"
      },
      "source": [
        "final.Score.value_counts()"
      ],
      "execution_count": 8,
      "outputs": [
        {
          "output_type": "display_data",
          "data": {
            "text/html": [
              "\n",
              "  <style>\n",
              "    pre {\n",
              "        white-space: pre-wrap;\n",
              "    }\n",
              "  </style>\n",
              "  "
            ],
            "text/plain": [
              "<IPython.core.display.HTML object>"
            ]
          },
          "metadata": {
            "tags": []
          }
        },
        {
          "output_type": "execute_result",
          "data": {
            "text/plain": [
              "5    250966\n",
              "4     56097\n",
              "1     36307\n",
              "2     20803\n",
              "Name: Score, dtype: int64"
            ]
          },
          "metadata": {
            "tags": []
          },
          "execution_count": 8
        }
      ]
    },
    {
      "cell_type": "markdown",
      "metadata": {
        "id": "61lsegECNfZv"
      },
      "source": [
        "### Other rules"
      ]
    },
    {
      "cell_type": "markdown",
      "metadata": {
        "id": "uf3qqaydNl7_"
      },
      "source": [
        "Helpfulness numerators are generally less than helpfullness denominators . Here 2 entries were observed to have a scenario where numerator value exceeds denominator . "
      ]
    },
    {
      "cell_type": "code",
      "metadata": {
        "colab": {
          "base_uri": "https://localhost:8080/",
          "height": 335
        },
        "id": "OOOTzXBhNtEB",
        "outputId": "5a0f64e4-9016-4850-9ec8-a12b50a0d5bc"
      },
      "source": [
        "final[final['HelpfulnessNumerator']>final['HelpfulnessDenominator']]"
      ],
      "execution_count": 9,
      "outputs": [
        {
          "output_type": "display_data",
          "data": {
            "text/html": [
              "\n",
              "  <style>\n",
              "    pre {\n",
              "        white-space: pre-wrap;\n",
              "    }\n",
              "  </style>\n",
              "  "
            ],
            "text/plain": [
              "<IPython.core.display.HTML object>"
            ]
          },
          "metadata": {
            "tags": []
          }
        },
        {
          "output_type": "execute_result",
          "data": {
            "text/html": [
              "<div>\n",
              "<style scoped>\n",
              "    .dataframe tbody tr th:only-of-type {\n",
              "        vertical-align: middle;\n",
              "    }\n",
              "\n",
              "    .dataframe tbody tr th {\n",
              "        vertical-align: top;\n",
              "    }\n",
              "\n",
              "    .dataframe thead th {\n",
              "        text-align: right;\n",
              "    }\n",
              "</style>\n",
              "<table border=\"1\" class=\"dataframe\">\n",
              "  <thead>\n",
              "    <tr style=\"text-align: right;\">\n",
              "      <th></th>\n",
              "      <th>Id</th>\n",
              "      <th>ProductId</th>\n",
              "      <th>UserId</th>\n",
              "      <th>ProfileName</th>\n",
              "      <th>HelpfulnessNumerator</th>\n",
              "      <th>HelpfulnessDenominator</th>\n",
              "      <th>Score</th>\n",
              "      <th>Time</th>\n",
              "      <th>Summary</th>\n",
              "      <th>Text</th>\n",
              "    </tr>\n",
              "  </thead>\n",
              "  <tbody>\n",
              "    <tr>\n",
              "      <th>59301</th>\n",
              "      <td>64422</td>\n",
              "      <td>B000MIDROQ</td>\n",
              "      <td>A161DK06JJMCYF</td>\n",
              "      <td>J. E. Stephens \"Jeanne\"</td>\n",
              "      <td>3</td>\n",
              "      <td>1</td>\n",
              "      <td>5</td>\n",
              "      <td>1224892800</td>\n",
              "      <td>Bought This for My Son at College</td>\n",
              "      <td>My son loves spaghetti so I didn't hesitate or...</td>\n",
              "    </tr>\n",
              "    <tr>\n",
              "      <th>41159</th>\n",
              "      <td>44737</td>\n",
              "      <td>B001EQ55RW</td>\n",
              "      <td>A2V0I904FH7ABY</td>\n",
              "      <td>Ram</td>\n",
              "      <td>3</td>\n",
              "      <td>2</td>\n",
              "      <td>4</td>\n",
              "      <td>1212883200</td>\n",
              "      <td>Pure cocoa taste with crunchy almonds inside</td>\n",
              "      <td>It was almost a 'love at first bite' - the per...</td>\n",
              "    </tr>\n",
              "  </tbody>\n",
              "</table>\n",
              "</div>"
            ],
            "text/plain": [
              "          Id  ...                                               Text\n",
              "59301  64422  ...  My son loves spaghetti so I didn't hesitate or...\n",
              "41159  44737  ...  It was almost a 'love at first bite' - the per...\n",
              "\n",
              "[2 rows x 10 columns]"
            ]
          },
          "metadata": {
            "tags": []
          },
          "execution_count": 9
        }
      ]
    },
    {
      "cell_type": "code",
      "metadata": {
        "id": "jiOLbrpMOPaq",
        "colab": {
          "base_uri": "https://localhost:8080/",
          "height": 17
        },
        "outputId": "e9eb6816-0f91-48cb-c1ec-7d93786ac4ad"
      },
      "source": [
        "# Removing the above scenario\n",
        "final = final[final['HelpfulnessNumerator']<=final['HelpfulnessDenominator']]"
      ],
      "execution_count": 10,
      "outputs": [
        {
          "output_type": "display_data",
          "data": {
            "text/html": [
              "\n",
              "  <style>\n",
              "    pre {\n",
              "        white-space: pre-wrap;\n",
              "    }\n",
              "  </style>\n",
              "  "
            ],
            "text/plain": [
              "<IPython.core.display.HTML object>"
            ]
          },
          "metadata": {
            "tags": []
          }
        }
      ]
    },
    {
      "cell_type": "code",
      "metadata": {
        "colab": {
          "base_uri": "https://localhost:8080/",
          "height": 34
        },
        "id": "ud9hStQNOgQx",
        "outputId": "3b6a0137-38fc-434b-e480-5525e5d98727"
      },
      "source": [
        "final.shape"
      ],
      "execution_count": 11,
      "outputs": [
        {
          "output_type": "display_data",
          "data": {
            "text/html": [
              "\n",
              "  <style>\n",
              "    pre {\n",
              "        white-space: pre-wrap;\n",
              "    }\n",
              "  </style>\n",
              "  "
            ],
            "text/plain": [
              "<IPython.core.display.HTML object>"
            ]
          },
          "metadata": {
            "tags": []
          }
        },
        {
          "output_type": "execute_result",
          "data": {
            "text/plain": [
              "(364171, 10)"
            ]
          },
          "metadata": {
            "tags": []
          },
          "execution_count": 11
        }
      ]
    },
    {
      "cell_type": "markdown",
      "metadata": {
        "id": "mYm6ILbbDiJp"
      },
      "source": [
        "## Data Labelling\n",
        "\n",
        "If a review score is >3 we replace the value with 1 and if its less than 3 we replace the value with 0"
      ]
    },
    {
      "cell_type": "code",
      "metadata": {
        "colab": {
          "base_uri": "https://localhost:8080/",
          "height": 102
        },
        "id": "1d6lofwXDmeu",
        "outputId": "8ec40740-ca02-4d82-e7f6-79a7ed563b5c"
      },
      "source": [
        "# Check number of not null values\n",
        "print(len(final[~(pd.isnull(final.Score))]),'/',len(final),' are not null values')\n",
        "\n",
        "# replace >3 as 1 and <3 as 0\n",
        "final['Score'] = [0 if x<3 else 1 for x in final['Score']]\n",
        "print('After replacing Score with 0 and 1 . Count of each would be:')\n",
        "final['Score'].value_counts()"
      ],
      "execution_count": 12,
      "outputs": [
        {
          "output_type": "display_data",
          "data": {
            "text/html": [
              "\n",
              "  <style>\n",
              "    pre {\n",
              "        white-space: pre-wrap;\n",
              "    }\n",
              "  </style>\n",
              "  "
            ],
            "text/plain": [
              "<IPython.core.display.HTML object>"
            ]
          },
          "metadata": {
            "tags": []
          }
        },
        {
          "output_type": "stream",
          "text": [
            "364171 / 364171  are not null values\n",
            "After replacing Score with 0 and 1 . Count of each would be:\n"
          ],
          "name": "stdout"
        },
        {
          "output_type": "execute_result",
          "data": {
            "text/plain": [
              "1    307061\n",
              "0     57110\n",
              "Name: Score, dtype: int64"
            ]
          },
          "metadata": {
            "tags": []
          },
          "execution_count": 12
        }
      ]
    },
    {
      "cell_type": "code",
      "metadata": {
        "id": "c7GV3pn6SkGd",
        "colab": {
          "base_uri": "https://localhost:8080/",
          "height": 17
        },
        "outputId": "43fe419e-4588-4040-ce3b-a80af9a2161c"
      },
      "source": [
        "final = final.reset_index(drop=True)"
      ],
      "execution_count": 13,
      "outputs": [
        {
          "output_type": "display_data",
          "data": {
            "text/html": [
              "\n",
              "  <style>\n",
              "    pre {\n",
              "        white-space: pre-wrap;\n",
              "    }\n",
              "  </style>\n",
              "  "
            ],
            "text/plain": [
              "<IPython.core.display.HTML object>"
            ]
          },
          "metadata": {
            "tags": []
          }
        }
      ]
    },
    {
      "cell_type": "markdown",
      "metadata": {
        "id": "8OPtOLdVQKqa"
      },
      "source": [
        "## Data preprocessing\n",
        "\n",
        "* Remove html tags\n",
        "* Remove punctuations, special characters\n",
        "* Check for alpha numeric (avoid in most cases)\n",
        "* Words have to be >2 length\n",
        "* Convert to lowercase\n",
        "* Remove stopwords\n",
        "* Snowball Stemming"
      ]
    },
    {
      "cell_type": "code",
      "metadata": {
        "colab": {
          "base_uri": "https://localhost:8080/",
          "height": 221
        },
        "id": "Z7ILZbofTDKA",
        "outputId": "21f858e5-fb07-48a4-f435-5ed876618d9e"
      },
      "source": [
        "# Randomly checking if a text has html tags in review text. \n",
        "final.loc[final.Text.str.find('http')>0,'Text']"
      ],
      "execution_count": 14,
      "outputs": [
        {
          "output_type": "display_data",
          "data": {
            "text/html": [
              "\n",
              "  <style>\n",
              "    pre {\n",
              "        white-space: pre-wrap;\n",
              "    }\n",
              "  </style>\n",
              "  "
            ],
            "text/plain": [
              "<IPython.core.display.HTML object>"
            ]
          },
          "metadata": {
            "tags": []
          }
        },
        {
          "output_type": "execute_result",
          "data": {
            "text/plain": [
              "85        I was intially introduced to Pro-Treat Beef Li...\n",
              "89        Dogs love these treats more than any other tre...\n",
              "239       Why is this $[...] when the same product is av...\n",
              "248       Of course you already have the DVD.<br />This ...\n",
              "276       <a href=\"http://www.amazon.com/gp/product/B001...\n",
              "                                ...                        \n",
              "363774    Art Deco in my fridge. Tastes great. Lunch pai...\n",
              "363983    Honeyville has wisely passed on very reasonabl...\n",
              "364059    Green Mountain has a reputation for making gre...\n",
              "364063    Kramer's 3 Pack Wing Rub is the best deal! We ...\n",
              "364167    You have to try this sauce to believe it! It s...\n",
              "Name: Text, Length: 7376, dtype: object"
            ]
          },
          "metadata": {
            "tags": []
          },
          "execution_count": 14
        }
      ]
    },
    {
      "cell_type": "code",
      "metadata": {
        "colab": {
          "base_uri": "https://localhost:8080/",
          "height": 323
        },
        "id": "ftr0M-QKSC6v",
        "outputId": "2f92b045-bdfb-49c2-f613-cee39979383e"
      },
      "source": [
        "# Looking at some of the random reviews \n",
        "print(final.Text[85])\n",
        "print('*'*50)\n",
        "print(final.Text[89])\n",
        "print('*'*50)\n",
        "print(final.Text[239])"
      ],
      "execution_count": 15,
      "outputs": [
        {
          "output_type": "display_data",
          "data": {
            "text/html": [
              "\n",
              "  <style>\n",
              "    pre {\n",
              "        white-space: pre-wrap;\n",
              "    }\n",
              "  </style>\n",
              "  "
            ],
            "text/plain": [
              "<IPython.core.display.HTML object>"
            ]
          },
          "metadata": {
            "tags": []
          }
        },
        {
          "output_type": "stream",
          "text": [
            "I was intially introduced to Pro-Treat Beef Liver Freeze Dried Dog Treats at my veterinarian's office.  Rudy, our Jack Russell Terrior, usually not all that interested in dog treats, responded like I'd never seen before!<br /><br />I bought a couple of cans (they are pretty pricey), but gave them to him sparingly. The tricks he'd do for the Pro-Treats were really entertaining.  Now, Rudy has to take meds. for his glaucoma and thank heavens I found the large size here which is a good value, so he not only takes his medicine, but gives great tricks in return each day! He's a happy camper, despite the loss of sight in one eye.<br /><a href=\"http://www.amazon.com/gp/product/B0002DGRSY\">Pro-Treat Beef Liver, Freeze Dried Dog Treats, 21 Ounce</a><br /><br />Rudy says, \"They are the best part of my day!\"  We think so too!  ~ CJ\n",
            "**************************************************\n",
            "Dogs love these treats more than any other treats I've ever found.  In situations where other treats fail to get our dog's attention - <a href=\"http://www.amazon.com/gp/product/B0019O5Z0Q\">Charlee Bear Turkey Liver & Cranberry Flavored Dog Treats</a>, for example - these treats are impossible for her to ignore.  They are an incredible training aid.<br /><br />Big bonus is that they're also simple and good for the dog.  Liver is a healthy treat and is supposed to help combat weepy eyes.  Unlike most other commercial treats, this one isn't loaded with a bunch of other junk that isn't good for your dog (byproducts and the like), it's just a good ingredient that your dog will love.\n",
            "**************************************************\n",
            "Why is this $[...] when the same product is available for $[...] here?<br />http://www.amazon.com/VICTOR-FLY-MAGNET-BAIT-REFILL/dp/B00004RBDY<br /><br />The Victor M380 and M502 traps are unreal, of course -- total fly genocide. Pretty stinky, but only right nearby.\n"
          ],
          "name": "stdout"
        }
      ]
    },
    {
      "cell_type": "code",
      "metadata": {
        "colab": {
          "base_uri": "https://localhost:8080/",
          "height": 306
        },
        "id": "SzyzLgx6bUwu",
        "outputId": "da2c99b0-06cb-4274-a176-898d58519060"
      },
      "source": [
        "# remove urls from text python: https://stackoverflow.com/a/40823105/4084039\n",
        "import re\n",
        "before = final.Text[85]\n",
        "after = re.sub(r\"http\\S+\", \"\", final.Text[85])\n",
        "print(\"Before\")\n",
        "print(before)\n",
        "print('*'*50)\n",
        "print(\"After\")\n",
        "print(after)"
      ],
      "execution_count": 16,
      "outputs": [
        {
          "output_type": "display_data",
          "data": {
            "text/html": [
              "\n",
              "  <style>\n",
              "    pre {\n",
              "        white-space: pre-wrap;\n",
              "    }\n",
              "  </style>\n",
              "  "
            ],
            "text/plain": [
              "<IPython.core.display.HTML object>"
            ]
          },
          "metadata": {
            "tags": []
          }
        },
        {
          "output_type": "stream",
          "text": [
            "Before\n",
            "I was intially introduced to Pro-Treat Beef Liver Freeze Dried Dog Treats at my veterinarian's office.  Rudy, our Jack Russell Terrior, usually not all that interested in dog treats, responded like I'd never seen before!<br /><br />I bought a couple of cans (they are pretty pricey), but gave them to him sparingly. The tricks he'd do for the Pro-Treats were really entertaining.  Now, Rudy has to take meds. for his glaucoma and thank heavens I found the large size here which is a good value, so he not only takes his medicine, but gives great tricks in return each day! He's a happy camper, despite the loss of sight in one eye.<br /><a href=\"http://www.amazon.com/gp/product/B0002DGRSY\">Pro-Treat Beef Liver, Freeze Dried Dog Treats, 21 Ounce</a><br /><br />Rudy says, \"They are the best part of my day!\"  We think so too!  ~ CJ\n",
            "**************************************************\n",
            "After\n",
            "I was intially introduced to Pro-Treat Beef Liver Freeze Dried Dog Treats at my veterinarian's office.  Rudy, our Jack Russell Terrior, usually not all that interested in dog treats, responded like I'd never seen before!<br /><br />I bought a couple of cans (they are pretty pricey), but gave them to him sparingly. The tricks he'd do for the Pro-Treats were really entertaining.  Now, Rudy has to take meds. for his glaucoma and thank heavens I found the large size here which is a good value, so he not only takes his medicine, but gives great tricks in return each day! He's a happy camper, despite the loss of sight in one eye.<br /><a href=\" Beef Liver, Freeze Dried Dog Treats, 21 Ounce</a><br /><br />Rudy says, \"They are the best part of my day!\"  We think so too!  ~ CJ\n"
          ],
          "name": "stdout"
        }
      ]
    },
    {
      "cell_type": "code",
      "metadata": {
        "colab": {
          "base_uri": "https://localhost:8080/",
          "height": 306
        },
        "id": "hsGgASamipoT",
        "outputId": "4dda795e-1b4a-4994-aeea-9b6f78d1d867"
      },
      "source": [
        "# remove all tags from the text # https://stackoverflow.com/questions/16206380/python-beautifulsoup-how-to-remove-all-tags-from-an-element\n",
        "from bs4 import BeautifulSoup\n",
        "\n",
        "soup = BeautifulSoup(before, 'lxml')\n",
        "after = soup.get_text()\n",
        "print(\"Before \\n\",before,'\\n','*'*50,'\\n After \\n',after)\n"
      ],
      "execution_count": 17,
      "outputs": [
        {
          "output_type": "display_data",
          "data": {
            "text/html": [
              "\n",
              "  <style>\n",
              "    pre {\n",
              "        white-space: pre-wrap;\n",
              "    }\n",
              "  </style>\n",
              "  "
            ],
            "text/plain": [
              "<IPython.core.display.HTML object>"
            ]
          },
          "metadata": {
            "tags": []
          }
        },
        {
          "output_type": "stream",
          "text": [
            "Before \n",
            " I was intially introduced to Pro-Treat Beef Liver Freeze Dried Dog Treats at my veterinarian's office.  Rudy, our Jack Russell Terrior, usually not all that interested in dog treats, responded like I'd never seen before!<br /><br />I bought a couple of cans (they are pretty pricey), but gave them to him sparingly. The tricks he'd do for the Pro-Treats were really entertaining.  Now, Rudy has to take meds. for his glaucoma and thank heavens I found the large size here which is a good value, so he not only takes his medicine, but gives great tricks in return each day! He's a happy camper, despite the loss of sight in one eye.<br /><a href=\"http://www.amazon.com/gp/product/B0002DGRSY\">Pro-Treat Beef Liver, Freeze Dried Dog Treats, 21 Ounce</a><br /><br />Rudy says, \"They are the best part of my day!\"  We think so too!  ~ CJ \n",
            " ************************************************** \n",
            " After \n",
            " I was intially introduced to Pro-Treat Beef Liver Freeze Dried Dog Treats at my veterinarian's office.  Rudy, our Jack Russell Terrior, usually not all that interested in dog treats, responded like I'd never seen before!I bought a couple of cans (they are pretty pricey), but gave them to him sparingly. The tricks he'd do for the Pro-Treats were really entertaining.  Now, Rudy has to take meds. for his glaucoma and thank heavens I found the large size here which is a good value, so he not only takes his medicine, but gives great tricks in return each day! He's a happy camper, despite the loss of sight in one eye.Pro-Treat Beef Liver, Freeze Dried Dog Treats, 21 OunceRudy says, \"They are the best part of my day!\"  We think so too!  ~ CJ\n"
          ],
          "name": "stdout"
        }
      ]
    },
    {
      "cell_type": "code",
      "metadata": {
        "colab": {
          "base_uri": "https://localhost:8080/",
          "height": 323
        },
        "id": "nxDjmJ3DjHpn",
        "outputId": "f81ba1c5-2cf6-4aae-8041-17cd73c63882"
      },
      "source": [
        "#Expanding English language contractions in Python\n",
        "#https://stackoverflow.com/a/47091490/8885670\n",
        "\n",
        "import re\n",
        "def decontracted(phrase):\n",
        "    # specific\n",
        "    phrase = re.sub(r\"won\\'t\", \"will not\", phrase)\n",
        "    phrase = re.sub(r\"can\\'t\", \"can not\", phrase)\n",
        "\n",
        "    # general\n",
        "    phrase = re.sub(r\"n\\'t\", \" not\", phrase)\n",
        "    phrase = re.sub(r\"\\'re\", \" are\", phrase)\n",
        "    phrase = re.sub(r\"\\'s\", \" is\", phrase)\n",
        "    phrase = re.sub(r\"\\'d\", \" would\", phrase)\n",
        "    phrase = re.sub(r\"\\'ll\", \" will\", phrase)\n",
        "    phrase = re.sub(r\"\\'t\", \" not\", phrase)\n",
        "    phrase = re.sub(r\"\\'ve\", \" have\", phrase)\n",
        "    phrase = re.sub(r\"\\'m\", \" am\", phrase)\n",
        "    return phrase\n",
        "\n",
        "after = decontracted(before)\n",
        "print(\"Before \\n\",before,'\\n','*'*50,'\\n After \\n',after)"
      ],
      "execution_count": 18,
      "outputs": [
        {
          "output_type": "display_data",
          "data": {
            "text/html": [
              "\n",
              "  <style>\n",
              "    pre {\n",
              "        white-space: pre-wrap;\n",
              "    }\n",
              "  </style>\n",
              "  "
            ],
            "text/plain": [
              "<IPython.core.display.HTML object>"
            ]
          },
          "metadata": {
            "tags": []
          }
        },
        {
          "output_type": "stream",
          "text": [
            "Before \n",
            " I was intially introduced to Pro-Treat Beef Liver Freeze Dried Dog Treats at my veterinarian's office.  Rudy, our Jack Russell Terrior, usually not all that interested in dog treats, responded like I'd never seen before!<br /><br />I bought a couple of cans (they are pretty pricey), but gave them to him sparingly. The tricks he'd do for the Pro-Treats were really entertaining.  Now, Rudy has to take meds. for his glaucoma and thank heavens I found the large size here which is a good value, so he not only takes his medicine, but gives great tricks in return each day! He's a happy camper, despite the loss of sight in one eye.<br /><a href=\"http://www.amazon.com/gp/product/B0002DGRSY\">Pro-Treat Beef Liver, Freeze Dried Dog Treats, 21 Ounce</a><br /><br />Rudy says, \"They are the best part of my day!\"  We think so too!  ~ CJ \n",
            " ************************************************** \n",
            " After \n",
            " I was intially introduced to Pro-Treat Beef Liver Freeze Dried Dog Treats at my veterinarian is office.  Rudy, our Jack Russell Terrior, usually not all that interested in dog treats, responded like I would never seen before!<br /><br />I bought a couple of cans (they are pretty pricey), but gave them to him sparingly. The tricks he would do for the Pro-Treats were really entertaining.  Now, Rudy has to take meds. for his glaucoma and thank heavens I found the large size here which is a good value, so he not only takes his medicine, but gives great tricks in return each day! He is a happy camper, despite the loss of sight in one eye.<br /><a href=\"http://www.amazon.com/gp/product/B0002DGRSY\">Pro-Treat Beef Liver, Freeze Dried Dog Treats, 21 Ounce</a><br /><br />Rudy says, \"They are the best part of my day!\"  We think so too!  ~ CJ\n"
          ],
          "name": "stdout"
        }
      ]
    },
    {
      "cell_type": "code",
      "metadata": {
        "colab": {
          "base_uri": "https://localhost:8080/",
          "height": 306
        },
        "id": "KgGUr63VjjU0",
        "outputId": "52aaf0b2-5f30-4cfd-cf4a-95b34b746c58"
      },
      "source": [
        "\n",
        "#remove words with numbers python: https://stackoverflow.com/a/18082370/4084039\n",
        "after = re.sub(\"\\S*\\d\\S*\", \"\", before).strip()\n",
        "print(\"Before \\n\",before,'\\n','*'*50,'\\n After \\n',after)"
      ],
      "execution_count": 19,
      "outputs": [
        {
          "output_type": "display_data",
          "data": {
            "text/html": [
              "\n",
              "  <style>\n",
              "    pre {\n",
              "        white-space: pre-wrap;\n",
              "    }\n",
              "  </style>\n",
              "  "
            ],
            "text/plain": [
              "<IPython.core.display.HTML object>"
            ]
          },
          "metadata": {
            "tags": []
          }
        },
        {
          "output_type": "stream",
          "text": [
            "Before \n",
            " I was intially introduced to Pro-Treat Beef Liver Freeze Dried Dog Treats at my veterinarian's office.  Rudy, our Jack Russell Terrior, usually not all that interested in dog treats, responded like I'd never seen before!<br /><br />I bought a couple of cans (they are pretty pricey), but gave them to him sparingly. The tricks he'd do for the Pro-Treats were really entertaining.  Now, Rudy has to take meds. for his glaucoma and thank heavens I found the large size here which is a good value, so he not only takes his medicine, but gives great tricks in return each day! He's a happy camper, despite the loss of sight in one eye.<br /><a href=\"http://www.amazon.com/gp/product/B0002DGRSY\">Pro-Treat Beef Liver, Freeze Dried Dog Treats, 21 Ounce</a><br /><br />Rudy says, \"They are the best part of my day!\"  We think so too!  ~ CJ \n",
            " ************************************************** \n",
            " After \n",
            " I was intially introduced to Pro-Treat Beef Liver Freeze Dried Dog Treats at my veterinarian's office.  Rudy, our Jack Russell Terrior, usually not all that interested in dog treats, responded like I'd never seen before!<br /><br />I bought a couple of cans (they are pretty pricey), but gave them to him sparingly. The tricks he'd do for the Pro-Treats were really entertaining.  Now, Rudy has to take meds. for his glaucoma and thank heavens I found the large size here which is a good value, so he not only takes his medicine, but gives great tricks in return each day! He's a happy camper, despite the loss of sight in one eye.<br /><a  Beef Liver, Freeze Dried Dog Treats,  Ounce</a><br /><br />Rudy says, \"They are the best part of my day!\"  We think so too!  ~ CJ\n"
          ],
          "name": "stdout"
        }
      ]
    },
    {
      "cell_type": "code",
      "metadata": {
        "colab": {
          "base_uri": "https://localhost:8080/",
          "height": 306
        },
        "id": "X2MvvjwKjv4U",
        "outputId": "19a29e41-b1b6-40e7-eaa9-2eab2640d3eb"
      },
      "source": [
        "#remove spacial character: https://stackoverflow.com/a/5843547/4084039\n",
        "after = re.sub('[^A-Za-z0-9]+', ' ', before)\n",
        "\n",
        "print(\"Before \\n\",before,'\\n','*'*50,'\\n After \\n',after)"
      ],
      "execution_count": 20,
      "outputs": [
        {
          "output_type": "display_data",
          "data": {
            "text/html": [
              "\n",
              "  <style>\n",
              "    pre {\n",
              "        white-space: pre-wrap;\n",
              "    }\n",
              "  </style>\n",
              "  "
            ],
            "text/plain": [
              "<IPython.core.display.HTML object>"
            ]
          },
          "metadata": {
            "tags": []
          }
        },
        {
          "output_type": "stream",
          "text": [
            "Before \n",
            " I was intially introduced to Pro-Treat Beef Liver Freeze Dried Dog Treats at my veterinarian's office.  Rudy, our Jack Russell Terrior, usually not all that interested in dog treats, responded like I'd never seen before!<br /><br />I bought a couple of cans (they are pretty pricey), but gave them to him sparingly. The tricks he'd do for the Pro-Treats were really entertaining.  Now, Rudy has to take meds. for his glaucoma and thank heavens I found the large size here which is a good value, so he not only takes his medicine, but gives great tricks in return each day! He's a happy camper, despite the loss of sight in one eye.<br /><a href=\"http://www.amazon.com/gp/product/B0002DGRSY\">Pro-Treat Beef Liver, Freeze Dried Dog Treats, 21 Ounce</a><br /><br />Rudy says, \"They are the best part of my day!\"  We think so too!  ~ CJ \n",
            " ************************************************** \n",
            " After \n",
            " I was intially introduced to Pro Treat Beef Liver Freeze Dried Dog Treats at my veterinarian s office Rudy our Jack Russell Terrior usually not all that interested in dog treats responded like I d never seen before br br I bought a couple of cans they are pretty pricey but gave them to him sparingly The tricks he d do for the Pro Treats were really entertaining Now Rudy has to take meds for his glaucoma and thank heavens I found the large size here which is a good value so he not only takes his medicine but gives great tricks in return each day He s a happy camper despite the loss of sight in one eye br a href http www amazon com gp product B0002DGRSY Pro Treat Beef Liver Freeze Dried Dog Treats 21 Ounce a br br Rudy says They are the best part of my day We think so too CJ\n"
          ],
          "name": "stdout"
        }
      ]
    },
    {
      "cell_type": "code",
      "metadata": {
        "colab": {
          "base_uri": "https://localhost:8080/",
          "height": 17
        },
        "id": "ha15Qu6SkQee",
        "outputId": "9f54eb4e-9522-42c7-ad75-6fe1225b6c60"
      },
      "source": [
        "\n",
        "# https://gist.github.com/sebleier/554280\n",
        "# we are removing the words from the stop words list: 'no', 'nor', 'not'\n",
        "# <br /><br /> ==> after the above steps, we are getting \"br br\"\n",
        "# we are including them into stop words list\n",
        "# instead of <br /> if we have <br/> these tags would have revmoved\n",
        "# in the 1st step\n",
        "\n",
        "stopwords= set(['br', 'the', 'i', 'me', 'my', 'myself', 'we', 'our', 'ours', 'ourselves', 'you', \"you're\", \"you've\",\\\n",
        "            \"you'll\", \"you'd\", 'your', 'yours', 'yourself', 'yourselves', 'he', 'him', 'his', 'himself', \\\n",
        "            'she', \"she's\", 'her', 'hers', 'herself', 'it', \"it's\", 'its', 'itself', 'they', 'them', 'their',\\\n",
        "            'theirs', 'themselves', 'what', 'which', 'who', 'whom', 'this', 'that', \"that'll\", 'these', 'those', \\\n",
        "            'am', 'is', 'are', 'was', 'were', 'be', 'been', 'being', 'have', 'has', 'had', 'having', 'do', 'does', \\\n",
        "            'did', 'doing', 'a', 'an', 'the', 'and', 'but', 'if', 'or', 'because', 'as', 'until', 'while', 'of', \\\n",
        "            'at', 'by', 'for', 'with', 'about', 'against', 'between', 'into', 'through', 'during', 'before', 'after',\\\n",
        "            'above', 'below', 'to', 'from', 'up', 'down', 'in', 'out', 'on', 'off', 'over', 'under', 'again', 'further',\\\n",
        "            'then', 'once', 'here', 'there', 'when', 'where', 'why', 'how', 'all', 'any', 'both', 'each', 'few', 'more',\\\n",
        "            'most', 'other', 'some', 'such', 'only', 'own', 'same', 'so', 'than', 'too', 'very', \\\n",
        "            's', 't', 'can', 'will', 'just', 'don', \"don't\", 'should', \"should've\", 'now', 'd', 'll', 'm', 'o', 're', \\\n",
        "            've', 'y', 'ain', 'aren', \"aren't\", 'couldn', \"couldn't\", 'didn', \"didn't\", 'doesn', \"doesn't\", 'hadn',\\\n",
        "            \"hadn't\", 'hasn', \"hasn't\", 'haven', \"haven't\", 'isn', \"isn't\", 'ma', 'mightn', \"mightn't\", 'mustn',\\\n",
        "            \"mustn't\", 'needn', \"needn't\", 'shan', \"shan't\", 'shouldn', \"shouldn't\", 'wasn', \"wasn't\", 'weren', \"weren't\", \\\n",
        "            'won', \"won't\", 'wouldn', \"wouldn't\"])"
      ],
      "execution_count": 21,
      "outputs": [
        {
          "output_type": "display_data",
          "data": {
            "text/html": [
              "\n",
              "  <style>\n",
              "    pre {\n",
              "        white-space: pre-wrap;\n",
              "    }\n",
              "  </style>\n",
              "  "
            ],
            "text/plain": [
              "<IPython.core.display.HTML object>"
            ]
          },
          "metadata": {
            "tags": []
          }
        }
      ]
    },
    {
      "cell_type": "code",
      "metadata": {
        "colab": {
          "base_uri": "https://localhost:8080/",
          "height": 34
        },
        "id": "XgWd-6POkUn-",
        "outputId": "07c061f7-369c-4df1-ab11-77b498728b8f"
      },
      "source": [
        "# Combining all the above stundents \n",
        "from tqdm import tqdm\n",
        "preprocessed_reviews = []\n",
        "# tqdm is for printing the status bar\n",
        "for sentance in tqdm(final['Text'].values):\n",
        "    sentance = re.sub(r\"http\\S+\", \"\", sentance)\n",
        "    sentance = BeautifulSoup(sentance, 'lxml').get_text()\n",
        "    sentance = decontracted(sentance)\n",
        "    sentance = re.sub(\"\\S*\\d\\S*\", \"\", sentance).strip()\n",
        "    sentance = re.sub('[^A-Za-z]+', ' ', sentance)\n",
        "    # https://gist.github.com/sebleier/554280\n",
        "    sentance = ' '.join(e.lower() for e in sentance.split() if e.lower()\n",
        "                        not in stopwords)\n",
        "    preprocessed_reviews.append(sentance.strip())"
      ],
      "execution_count": 22,
      "outputs": [
        {
          "output_type": "display_data",
          "data": {
            "text/html": [
              "\n",
              "  <style>\n",
              "    pre {\n",
              "        white-space: pre-wrap;\n",
              "    }\n",
              "  </style>\n",
              "  "
            ],
            "text/plain": [
              "<IPython.core.display.HTML object>"
            ]
          },
          "metadata": {
            "tags": []
          }
        },
        {
          "output_type": "stream",
          "text": [
            "100%|██████████| 364171/364171 [01:58<00:00, 3060.71it/s]\n"
          ],
          "name": "stderr"
        }
      ]
    },
    {
      "cell_type": "code",
      "metadata": {
        "colab": {
          "base_uri": "https://localhost:8080/",
          "height": 102
        },
        "id": "n3As7NTJl34f",
        "outputId": "c59f40e6-575d-45f7-ff60-1fc4c387e07c"
      },
      "source": [
        "# Similarly we could collect the summary text as well \n",
        "\n",
        "# Combining all the above stundents \n",
        "from tqdm import tqdm\n",
        "preprocessed_summary = []\n",
        "# tqdm is for printing the status bar\n",
        "for sentance in tqdm(final['Summary'].values):\n",
        "    sentance = re.sub(r\"http\\S+\", \"\", sentance)\n",
        "    sentance = BeautifulSoup(sentance, 'lxml').get_text()\n",
        "    sentance = decontracted(sentance)\n",
        "    sentance = re.sub(\"\\S*\\d\\S*\", \"\", sentance).strip()\n",
        "    sentance = re.sub('[^A-Za-z]+', ' ', sentance)\n",
        "    # https://gist.github.com/sebleier/554280\n",
        "    sentance = ' '.join(e.lower() for e in sentance.split() if e.lower()\n",
        "                        not in stopwords)\n",
        "    preprocessed_summary.append(sentance.strip())"
      ],
      "execution_count": 23,
      "outputs": [
        {
          "output_type": "display_data",
          "data": {
            "text/html": [
              "\n",
              "  <style>\n",
              "    pre {\n",
              "        white-space: pre-wrap;\n",
              "    }\n",
              "  </style>\n",
              "  "
            ],
            "text/plain": [
              "<IPython.core.display.HTML object>"
            ]
          },
          "metadata": {
            "tags": []
          }
        },
        {
          "output_type": "stream",
          "text": [
            "  6%|▌         | 22294/364171 [00:04<01:12, 4712.17it/s]/usr/local/lib/python3.7/dist-packages/bs4/__init__.py:273: UserWarning: \"b'.'\" looks like a filename, not markup. You should probably open this file and pass the filehandle into Beautiful Soup.\n",
            "  ' Beautiful Soup.' % markup)\n",
            "100%|██████████| 364171/364171 [01:23<00:00, 4346.74it/s]\n"
          ],
          "name": "stderr"
        }
      ]
    },
    {
      "cell_type": "code",
      "metadata": {
        "id": "f0lHqwk7m4sI"
      },
      "source": [
        ""
      ],
      "execution_count": 23,
      "outputs": []
    },
    {
      "cell_type": "markdown",
      "metadata": {
        "id": "O1aQUNIjoxDU"
      },
      "source": [
        "## Dataset Splitting"
      ]
    },
    {
      "cell_type": "markdown",
      "metadata": {
        "id": "EOhykSWn8nmP"
      },
      "source": [
        "Split the data  to Train - 80% & Test - 20%"
      ]
    },
    {
      "cell_type": "code",
      "metadata": {
        "colab": {
          "base_uri": "https://localhost:8080/",
          "height": 17
        },
        "id": "qfz9a7Swo25n",
        "outputId": "036b98e1-71b4-4a5b-be70-2516a8b1aac7"
      },
      "source": [
        "\n",
        "from sklearn.model_selection import train_test_split\n",
        "X_train, X_test, y_train, y_test = train_test_split(preprocessed_reviews, final['Score'].to_list(), test_size=0.2, random_state=77)\n"
      ],
      "execution_count": 24,
      "outputs": [
        {
          "output_type": "display_data",
          "data": {
            "text/html": [
              "\n",
              "  <style>\n",
              "    pre {\n",
              "        white-space: pre-wrap;\n",
              "    }\n",
              "  </style>\n",
              "  "
            ],
            "text/plain": [
              "<IPython.core.display.HTML object>"
            ]
          },
          "metadata": {
            "tags": []
          }
        }
      ]
    },
    {
      "cell_type": "code",
      "metadata": {
        "colab": {
          "base_uri": "https://localhost:8080/",
          "height": 153
        },
        "id": "ON2NA134w9Du",
        "outputId": "253019d1-7da2-4bc7-ac3f-00a59b851a17"
      },
      "source": [
        "print(X_train[:5])\n",
        "print(y_train[:5])"
      ],
      "execution_count": 25,
      "outputs": [
        {
          "output_type": "display_data",
          "data": {
            "text/html": [
              "\n",
              "  <style>\n",
              "    pre {\n",
              "        white-space: pre-wrap;\n",
              "    }\n",
              "  </style>\n",
              "  "
            ],
            "text/plain": [
              "<IPython.core.display.HTML object>"
            ]
          },
          "metadata": {
            "tags": []
          }
        },
        {
          "output_type": "stream",
          "text": [
            "['product great evening tea help relax gently eases sleep taking harsh medicines like tylenol pm always woke feeling worse went bed not tea let clarify not knock help relax', 'not recommend flavor least one five cups problem resulted grounds coffee used two machines one less month old outcome maybe bad batch would like know reviewers similar problems always bought timothy hope anomaly two five stars majority brews made came fine update review feel recommend flavor', 'completlety satisfied coconut crystal use protein smoothie every morning taste like mild brown sugar happy buying future', 'love nuts hate removing shells great tasty choice right amount salt nuts plump good size', 'worst tasting coffee ever tasted flavorless bitter acidic taste threw whole bag']\n",
            "[1, 0, 1, 1, 0]\n"
          ],
          "name": "stdout"
        }
      ]
    },
    {
      "cell_type": "code",
      "metadata": {
        "colab": {
          "base_uri": "https://localhost:8080/",
          "height": 187
        },
        "id": "w96Btr9lv9Xa",
        "outputId": "09bb9125-49bb-49b7-f642-db60ce653465"
      },
      "source": [
        "print(X_test[:5])\n",
        "print(y_test[:5])"
      ],
      "execution_count": 26,
      "outputs": [
        {
          "output_type": "display_data",
          "data": {
            "text/html": [
              "\n",
              "  <style>\n",
              "    pre {\n",
              "        white-space: pre-wrap;\n",
              "    }\n",
              "  </style>\n",
              "  "
            ],
            "text/plain": [
              "<IPython.core.display.HTML object>"
            ]
          },
          "metadata": {
            "tags": []
          }
        },
        {
          "output_type": "stream",
          "text": [
            "['ronzoni pasta always consistantly good pasta buy pastas quality always consistantly good', 'came first time corner package torn half cocoa powder gone flying shipment box upset called customer service sent new one without sending defected one bothering like taste use drinking hot cocoa rather baking tastes mild mean not bitter cocoa like bitter taste cocoa maybe good point honestly think taste ghirardelli cocoa better taste organic believe must better quality also fair trade anyway enjoying sugar free vanilla syrup perfect way enjoy delicious hot cocoa free bad chemicals high calories', 'salmon not bad meat several questionable additions including bony pieces found big round bone fragments probably fish spinal cord not something want chewing sandwich wo not buy', 'love sauce used get local grocery store stopped selling ordered six pack going last good long people know tried not like find taste sweet kind zippy time trying find substitute months glad found amazon', 'got cause love quality okay guess would look nicer tv']\n",
            "[1, 1, 0, 1, 1]\n"
          ],
          "name": "stdout"
        }
      ]
    },
    {
      "cell_type": "markdown",
      "metadata": {
        "id": "iijbTjlY8vq8"
      },
      "source": [
        "Further split the training data to  train - 80% and Cross validation data - 20%"
      ]
    },
    {
      "cell_type": "code",
      "metadata": {
        "colab": {
          "base_uri": "https://localhost:8080/",
          "height": 17
        },
        "id": "-_BgQFck8Ufx",
        "outputId": "c37f271c-2f9c-488c-fa27-5dd78d352428"
      },
      "source": [
        "X_train_noncv, X_train_cv, y_train_noncv, y_train_cv = train_test_split(X_train, y_train, test_size=0.2, random_state=77)\n"
      ],
      "execution_count": 27,
      "outputs": [
        {
          "output_type": "display_data",
          "data": {
            "text/html": [
              "\n",
              "  <style>\n",
              "    pre {\n",
              "        white-space: pre-wrap;\n",
              "    }\n",
              "  </style>\n",
              "  "
            ],
            "text/plain": [
              "<IPython.core.display.HTML object>"
            ]
          },
          "metadata": {
            "tags": []
          }
        }
      ]
    },
    {
      "cell_type": "code",
      "metadata": {
        "colab": {
          "base_uri": "https://localhost:8080/",
          "height": 85
        },
        "id": "0WJnbA1O9PML",
        "outputId": "d0f57d9f-9344-48a0-8058-10ba8c767e63"
      },
      "source": [
        "print(\"# of reviews ...\")\n",
        "print(\"Training = \",len(X_train_noncv))\n",
        "print(\"Cross validation = \",len(X_train_cv))\n",
        "print(\"Testing = \",len(X_test))"
      ],
      "execution_count": 28,
      "outputs": [
        {
          "output_type": "display_data",
          "data": {
            "text/html": [
              "\n",
              "  <style>\n",
              "    pre {\n",
              "        white-space: pre-wrap;\n",
              "    }\n",
              "  </style>\n",
              "  "
            ],
            "text/plain": [
              "<IPython.core.display.HTML object>"
            ]
          },
          "metadata": {
            "tags": []
          }
        },
        {
          "output_type": "stream",
          "text": [
            "# of reviews ...\n",
            "Training =  233068\n",
            "Cross validation =  58268\n",
            "Testing =  72835\n"
          ],
          "name": "stdout"
        }
      ]
    },
    {
      "cell_type": "markdown",
      "metadata": {
        "id": "rroViitZlOfN"
      },
      "source": [
        "## Feature Engineering and Data Transformation"
      ]
    },
    {
      "cell_type": "markdown",
      "metadata": {
        "id": "ySVjN69g9vok"
      },
      "source": [
        "We shall use Bag or Words and TFIDF for feature engineering"
      ]
    },
    {
      "cell_type": "markdown",
      "metadata": {
        "id": "5evMVuEo908A"
      },
      "source": [
        "### Bag of Words"
      ]
    },
    {
      "cell_type": "code",
      "metadata": {
        "id": "JWYdRR0tlY6J",
        "colab": {
          "base_uri": "https://localhost:8080/",
          "height": 17
        },
        "outputId": "8bcd0d0f-529e-440f-e4e0-698d161fcd4c"
      },
      "source": [
        "from sklearn.feature_extraction.text import CountVectorizer\n",
        "from sklearn.preprocessing import StandardScaler\n",
        "count_vect = CountVectorizer(min_df=100)\n",
        "X_tr_BoW = count_vect.fit_transform(X_train_noncv)\n",
        "X_cv_BoW = count_vect.transform(X_train_cv)\n",
        "X_te_BoW = count_vect.transform(X_test)\n",
        "scalar = StandardScaler(with_mean=False)\n",
        "X_tr_BoW = scalar.fit_transform(X_tr_BoW)\n",
        "X_cv_BoW = scalar.transform(X_cv_BoW)\n",
        "X_te_BoW = scalar.transform(X_te_BoW)"
      ],
      "execution_count": 29,
      "outputs": [
        {
          "output_type": "display_data",
          "data": {
            "text/html": [
              "\n",
              "  <style>\n",
              "    pre {\n",
              "        white-space: pre-wrap;\n",
              "    }\n",
              "  </style>\n",
              "  "
            ],
            "text/plain": [
              "<IPython.core.display.HTML object>"
            ]
          },
          "metadata": {
            "tags": []
          }
        }
      ]
    },
    {
      "cell_type": "markdown",
      "metadata": {
        "id": "zp-W9zwDAwpt"
      },
      "source": [
        "### TFIDF"
      ]
    },
    {
      "cell_type": "code",
      "metadata": {
        "colab": {
          "base_uri": "https://localhost:8080/",
          "height": 17
        },
        "id": "38yv9P61A8VG",
        "outputId": "ce05ff4a-234b-41e4-d330-8a793f50a5af"
      },
      "source": [
        "from sklearn.feature_extraction.text import TfidfVectorizer\n",
        "tf_idf_vect = TfidfVectorizer(ngram_range = (1,2), min_df = 10,max_features=1000 )\n",
        "X_tr_tfidf = tf_idf_vect.fit_transform(X_train_noncv)\n",
        "X_cv_tfidf = tf_idf_vect.transform(X_train_cv)\n",
        "X_te_tfidf = tf_idf_vect.transform(X_test)\n",
        "scalar = StandardScaler(with_mean=False)\n",
        "X_tr_tfidf = scalar.fit_transform(X_tr_tfidf)\n",
        "X_cv_tfidf = scalar.transform(X_cv_tfidf)\n",
        "X_te_tfidf = scalar.transform(X_te_tfidf)"
      ],
      "execution_count": 30,
      "outputs": [
        {
          "output_type": "display_data",
          "data": {
            "text/html": [
              "\n",
              "  <style>\n",
              "    pre {\n",
              "        white-space: pre-wrap;\n",
              "    }\n",
              "  </style>\n",
              "  "
            ],
            "text/plain": [
              "<IPython.core.display.HTML object>"
            ]
          },
          "metadata": {
            "tags": []
          }
        }
      ]
    },
    {
      "cell_type": "code",
      "metadata": {
        "id": "QLco18fNiVRx",
        "outputId": "39e9802f-276f-4f92-8a9d-99bae83fd32d",
        "colab": {
          "base_uri": "https://localhost:8080/",
          "height": 34
        }
      },
      "source": [
        "X_tr_tfidf.shape"
      ],
      "execution_count": 31,
      "outputs": [
        {
          "output_type": "display_data",
          "data": {
            "text/html": [
              "\n",
              "  <style>\n",
              "    pre {\n",
              "        white-space: pre-wrap;\n",
              "    }\n",
              "  </style>\n",
              "  "
            ],
            "text/plain": [
              "<IPython.core.display.HTML object>"
            ]
          },
          "metadata": {
            "tags": []
          }
        },
        {
          "output_type": "execute_result",
          "data": {
            "text/plain": [
              "(233068, 1000)"
            ]
          },
          "metadata": {
            "tags": []
          },
          "execution_count": 31
        }
      ]
    },
    {
      "cell_type": "markdown",
      "metadata": {
        "id": "T6uMko2sBbpC"
      },
      "source": [
        "# ML Models"
      ]
    },
    {
      "cell_type": "markdown",
      "metadata": {
        "id": "L6UlXgEbBgVR"
      },
      "source": [
        "* I would like to try Logistic Regression model before trying other ML models"
      ]
    },
    {
      "cell_type": "markdown",
      "metadata": {
        "id": "zQ0KV8vMBqON"
      },
      "source": [
        "## Logistic Regression - BoW"
      ]
    },
    {
      "cell_type": "code",
      "metadata": {
        "colab": {
          "base_uri": "https://localhost:8080/",
          "height": 17
        },
        "id": "XbWeXMQMDVgC",
        "outputId": "f4b7c9cd-b6e8-47c3-df2c-6b6b882c0029"
      },
      "source": [
        "import numpy as np\n",
        "from sklearn.model_selection import GridSearchCV\n",
        "from sklearn.linear_model import LogisticRegression"
      ],
      "execution_count": 32,
      "outputs": [
        {
          "output_type": "display_data",
          "data": {
            "text/html": [
              "\n",
              "  <style>\n",
              "    pre {\n",
              "        white-space: pre-wrap;\n",
              "    }\n",
              "  </style>\n",
              "  "
            ],
            "text/plain": [
              "<IPython.core.display.HTML object>"
            ]
          },
          "metadata": {
            "tags": []
          }
        }
      ]
    },
    {
      "cell_type": "code",
      "metadata": {
        "colab": {
          "base_uri": "https://localhost:8080/",
          "height": 714
        },
        "id": "eGRwxXHTBuSs",
        "outputId": "efd282e3-7453-4168-e7e2-88b4e01682f5"
      },
      "source": [
        "# Assumptions\n",
        "grid={\"C\":[0.001,0.1,1]} ###\n",
        "clf = LogisticRegression(solver='liblinear') ###\n",
        "log_clf_grid_cv = GridSearchCV(clf,grid,cv=10,verbose=5,scoring='roc_auc') ###\n",
        "log_clf_grid_cv.fit(X_tr_BoW,y_train_noncv) ###"
      ],
      "execution_count": null,
      "outputs": [
        {
          "output_type": "display_data",
          "data": {
            "text/html": [
              "\n",
              "  <style>\n",
              "    pre {\n",
              "        white-space: pre-wrap;\n",
              "    }\n",
              "  </style>\n",
              "  "
            ],
            "text/plain": [
              "<IPython.core.display.HTML object>"
            ]
          },
          "metadata": {
            "tags": []
          }
        },
        {
          "output_type": "stream",
          "text": [
            "Fitting 10 folds for each of 3 candidates, totalling 30 fits\n",
            "[CV] C=0.001 .........................................................\n"
          ],
          "name": "stdout"
        },
        {
          "output_type": "stream",
          "text": [
            "[Parallel(n_jobs=1)]: Using backend SequentialBackend with 1 concurrent workers.\n"
          ],
          "name": "stderr"
        },
        {
          "output_type": "stream",
          "text": [
            "[CV] ............................. C=0.001, score=0.942, total=   4.4s\n",
            "[CV] C=0.001 .........................................................\n"
          ],
          "name": "stdout"
        },
        {
          "output_type": "stream",
          "text": [
            "[Parallel(n_jobs=1)]: Done   1 out of   1 | elapsed:    4.4s remaining:    0.0s\n"
          ],
          "name": "stderr"
        },
        {
          "output_type": "stream",
          "text": [
            "[CV] ............................. C=0.001, score=0.944, total=   3.7s\n",
            "[CV] C=0.001 .........................................................\n"
          ],
          "name": "stdout"
        },
        {
          "output_type": "stream",
          "text": [
            "[Parallel(n_jobs=1)]: Done   2 out of   2 | elapsed:    8.0s remaining:    0.0s\n"
          ],
          "name": "stderr"
        },
        {
          "output_type": "stream",
          "text": [
            "[CV] ............................. C=0.001, score=0.943, total=   4.3s\n",
            "[CV] C=0.001 .........................................................\n"
          ],
          "name": "stdout"
        },
        {
          "output_type": "stream",
          "text": [
            "[Parallel(n_jobs=1)]: Done   3 out of   3 | elapsed:   12.3s remaining:    0.0s\n"
          ],
          "name": "stderr"
        },
        {
          "output_type": "stream",
          "text": [
            "[CV] ............................. C=0.001, score=0.944, total=   4.3s\n",
            "[CV] C=0.001 .........................................................\n"
          ],
          "name": "stdout"
        },
        {
          "output_type": "stream",
          "text": [
            "[Parallel(n_jobs=1)]: Done   4 out of   4 | elapsed:   16.6s remaining:    0.0s\n"
          ],
          "name": "stderr"
        },
        {
          "output_type": "stream",
          "text": [
            "[CV] ............................. C=0.001, score=0.948, total=   3.7s\n",
            "[CV] C=0.001 .........................................................\n",
            "[CV] ............................. C=0.001, score=0.946, total=   4.1s\n",
            "[CV] C=0.001 .........................................................\n",
            "[CV] ............................. C=0.001, score=0.944, total=   3.8s\n",
            "[CV] C=0.001 .........................................................\n",
            "[CV] ............................. C=0.001, score=0.946, total=   3.6s\n",
            "[CV] C=0.001 .........................................................\n",
            "[CV] ............................. C=0.001, score=0.946, total=   3.5s\n",
            "[CV] C=0.001 .........................................................\n",
            "[CV] ............................. C=0.001, score=0.949, total=   4.1s\n",
            "[CV] C=0.1 ...........................................................\n",
            "[CV] ............................... C=0.1, score=0.939, total=   8.6s\n",
            "[CV] C=0.1 ...........................................................\n",
            "[CV] ............................... C=0.1, score=0.942, total=   9.9s\n",
            "[CV] C=0.1 ...........................................................\n",
            "[CV] ............................... C=0.1, score=0.941, total=   8.3s\n",
            "[CV] C=0.1 ...........................................................\n",
            "[CV] ............................... C=0.1, score=0.942, total=   8.4s\n",
            "[CV] C=0.1 ...........................................................\n",
            "[CV] ............................... C=0.1, score=0.946, total=   8.6s\n",
            "[CV] C=0.1 ...........................................................\n",
            "[CV] ............................... C=0.1, score=0.944, total=   8.8s\n",
            "[CV] C=0.1 ...........................................................\n",
            "[CV] ............................... C=0.1, score=0.942, total=   8.8s\n",
            "[CV] C=0.1 ...........................................................\n"
          ],
          "name": "stdout"
        }
      ]
    },
    {
      "cell_type": "code",
      "metadata": {
        "id": "EwultLPrNoay"
      },
      "source": [
        "results_df = pd.DataFrame({\n",
        "    'params' : log_clf_grid_cv.cv_results_['params'],\n",
        "    'AUC' : log_clf_grid_cv.cv_results_['mean_test_score'],\n",
        "    'Time' : log_clf_grid_cv.cv_results_['mean_score_time']\n",
        "})\n",
        "print(results_df)\n",
        "print('*'*50)\n",
        "print('Best result is :',)\n",
        "print(log_clf_grid_cv.best_params_)\n",
        "print(log_clf_grid_cv.best_score_)"
      ],
      "execution_count": null,
      "outputs": []
    },
    {
      "cell_type": "code",
      "metadata": {
        "id": "F2hzf9JcPdsu"
      },
      "source": [
        "clf = log_clf_grid_cv.best_estimator_\n",
        "clf = clf.fit(X_tr_BoW,y_train_noncv)"
      ],
      "execution_count": null,
      "outputs": []
    },
    {
      "cell_type": "code",
      "metadata": {
        "id": "zc7nLqf_PSYZ"
      },
      "source": [
        "pred_train = clf.predict_proba(X_tr_BoW) ###\n",
        "pred_cv = clf.predict_proba(X_cv_BoW) ###\n",
        "pred_te = clf.predict_proba(X_te_BoW) ###\n",
        "\n",
        "from sklearn.metrics import roc_curve,roc_auc_score\n",
        "fpr1, tpr1, thresholds = roc_curve(y_train_noncv, pred_train[:,1])\n",
        "fpr2, tpr2, thresholds = roc_curve(y_train_cv, pred_cv[:,1]) \n",
        "fpr3, tpr3, thresholds = roc_curve(y_test, pred_te[:,1]) \n",
        "print(\"The AUC score for train data is : \",roc_auc_score(y_train_noncv, pred_train[:,1])) \n",
        "print(\"The AUC score for CV data is : \",roc_auc_score(y_train_cv, pred_cv[:,1])) \n",
        "print(\"The AUC score for test data is : \",roc_auc_score(y_test, pred_te[:,1])) \n",
        "import matplotlib.pyplot as plt\n",
        "%matplotlib inline\n",
        "plt.plot(fpr1,tpr1,'r',label = 'Train data')\n",
        "plt.plot(fpr2,tpr2,'b',label = 'CV data')\n",
        "plt.plot(fpr3,tpr3,'g',label = 'Test data')\n",
        "plt.grid(True)\n",
        "plt.legend(loc='upper center', bbox_to_anchor=(1.45, 0.8), shadow=True, ncol=1)\n",
        "plt.show()"
      ],
      "execution_count": null,
      "outputs": []
    },
    {
      "cell_type": "code",
      "metadata": {
        "id": "_UnHqVsVUcZD"
      },
      "source": [
        "\n",
        "import seaborn as sn\n",
        "#https://stackoverflow.com/questions/47264597/confusion-matrix-from-probabilities\n",
        "import matplotlib.pyplot as plt1\n",
        "from sklearn.metrics import confusion_matrix\n",
        "y_pred = np.argmax(pred_te, axis=1)\n",
        "conf_mat = confusion_matrix(y_test, y_pred )\n",
        "conf_mat_normalized = conf_mat.astype('int') / conf_mat.sum(axis=1)[:, np.newaxis]\n",
        "sn.heatmap(conf_mat , annot=True ,fmt='.1f' )\n",
        "plt.ylabel('True label')\n",
        "plt.xlabel('Predicted label')\n",
        "plt.show()"
      ],
      "execution_count": null,
      "outputs": []
    },
    {
      "cell_type": "markdown",
      "metadata": {
        "id": "-172M50fOuIx"
      },
      "source": [
        "## Logistic Regression - TFIDF"
      ]
    },
    {
      "cell_type": "code",
      "metadata": {
        "id": "PJYQ4UEGPHmt"
      },
      "source": [
        "# Assumptions\n",
        "grid={\"C\":[0.001,0.1,1]} ###\n",
        "clf = LogisticRegression(solver='liblinear') ###\n",
        "log_clf_grid_cv = GridSearchCV(clf,grid,cv=10,verbose=5,scoring='roc_auc') ###\n",
        "log_clf_grid_cv.fit(X_tr_tfidf,y_train_noncv) ###"
      ],
      "execution_count": null,
      "outputs": []
    },
    {
      "cell_type": "code",
      "metadata": {
        "id": "x2ceSM-cWt7H"
      },
      "source": [
        "results_df = pd.DataFrame({\n",
        "    'params' : log_clf_grid_cv.cv_results_['params'],\n",
        "    'AUC' : log_clf_grid_cv.cv_results_['mean_test_score'],\n",
        "    'Time' : log_clf_grid_cv.cv_results_['mean_score_time']\n",
        "})\n",
        "print(results_df)\n",
        "print('*'*50)\n",
        "print('Best result is :',)\n",
        "print(log_clf_grid_cv.best_params_)\n",
        "print(log_clf_grid_cv.best_score_)"
      ],
      "execution_count": null,
      "outputs": []
    },
    {
      "cell_type": "code",
      "metadata": {
        "id": "oeaCvUAEXO_Y"
      },
      "source": [
        "clf = log_clf_grid_cv.best_estimator_\n",
        "clf = clf.fit(X_tr_tfidf,y_train_noncv)"
      ],
      "execution_count": null,
      "outputs": []
    },
    {
      "cell_type": "code",
      "metadata": {
        "id": "ANdv3NgxXO_Z"
      },
      "source": [
        "pred_train = clf.predict_proba(X_tr_tfidf) ###\n",
        "pred_cv = clf.predict_proba(X_cv_tfidf) ###\n",
        "pred_te = clf.predict_proba(X_te_tfidf) ###\n",
        "\n",
        "from sklearn.metrics import roc_curve\n",
        "fpr1, tpr1, thresholds = roc_curve(y_train_noncv, pred_train[:,1])\n",
        "fpr2, tpr2, thresholds = roc_curve(y_train_cv, pred_cv[:,1]) \n",
        "fpr3, tpr3, thresholds = roc_curve(y_test, pred_te[:,1]) \n",
        "print(\"The AUC score for train data is : \",roc_auc_score(y_train_noncv, pred_train[:,1])) \n",
        "print(\"The AUC score for CV data is : \",roc_auc_score(y_train_cv, pred_cv[:,1])) \n",
        "print(\"The AUC score for test data is : \",roc_auc_score(y_test, pred_te[:,1])) \n",
        "import matplotlib.pyplot as plt\n",
        "%matplotlib inline\n",
        "plt.plot(fpr1,tpr1,'r',label = 'Train data')\n",
        "plt.plot(fpr2,tpr2,'b',label = 'CV data')\n",
        "plt.plot(fpr3,tpr3,'g',label = 'Test data')\n",
        "plt.grid(True)\n",
        "plt.legend(loc='upper center', bbox_to_anchor=(1.45, 0.8), shadow=True, ncol=1)\n",
        "plt.show()"
      ],
      "execution_count": null,
      "outputs": []
    },
    {
      "cell_type": "code",
      "metadata": {
        "id": "3S2WkW4iXO_Z"
      },
      "source": [
        "\n",
        "import seaborn as sn\n",
        "#https://stackoverflow.com/questions/47264597/confusion-matrix-from-probabilities\n",
        "import matplotlib.pyplot as plt1\n",
        "from sklearn.metrics import confusion_matrix\n",
        "y_pred = np.argmax(pred_te, axis=1)\n",
        "conf_mat = confusion_matrix(y_test, y_pred )\n",
        "conf_mat_normalized = conf_mat.astype('int') / conf_mat.sum(axis=1)[:, np.newaxis]\n",
        "sn.heatmap(conf_mat , annot=True ,fmt='.1f' )\n",
        "plt.ylabel('True label')\n",
        "plt.xlabel('Predicted label')\n",
        "plt.show()"
      ],
      "execution_count": null,
      "outputs": []
    },
    {
      "cell_type": "markdown",
      "metadata": {
        "id": "9LA5CXLyiudA"
      },
      "source": [
        "# Conclusion\n",
        "\n"
      ]
    },
    {
      "cell_type": "code",
      "metadata": {
        "id": "fQ_WQPTxi3Cp"
      },
      "source": [
        "from prettytable import PrettyTable\n",
        "x = PrettyTable()\n",
        "x.field_names = [\"Model Name\",\"AUC Train \" , \"AUC CV \", \n",
        "                 \"AUC Test \"]\n",
        "x.add_row(['Logistic Regression with BoW','0.96','0.95','0.95'])\n",
        "x.add_row(['Logistic Regression with TFIDF','0.94','0.94','0.94'])\n",
        "print(x)"
      ],
      "execution_count": null,
      "outputs": []
    },
    {
      "cell_type": "markdown",
      "metadata": {
        "id": "MRMC98hskRv1"
      },
      "source": [
        "# Observations"
      ]
    },
    {
      "cell_type": "markdown",
      "metadata": {
        "id": "UFQzActdjxo1"
      },
      "source": [
        "1. Since the data was imbalanced AUC values were used\n",
        "\n",
        "2. BoW and TFIDF are giving excellent predictions\n",
        "3. Summary text could be used as additional features"
      ]
    },
    {
      "cell_type": "code",
      "metadata": {
        "id": "UmGDJyEmkJqK"
      },
      "source": [
        ""
      ],
      "execution_count": null,
      "outputs": []
    }
  ]
}